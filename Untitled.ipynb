{
 "cells": [
  {
   "cell_type": "code",
   "execution_count": null,
   "id": "e0bb196e-5223-4916-8967-e7fe5931da0b",
   "metadata": {},
   "outputs": [],
   "source": [
    "import cv2\n",
    "import pandas as pd\n"
   ]
  },
  {
   "cell_type": "code",
   "execution_count": null,
   "id": "688c2a6a-4ad0-4e04-8a12-9ccc87bee066",
   "metadata": {},
   "outputs": [],
   "source": [
    "img_path = 'pic1.jpg'\n",
    "csv_path = 'colors.csv'\n",
    "\n"
   ]
  },
  {
   "cell_type": "code",
   "execution_count": null,
   "id": "63825536-1bf5-427d-a48f-35a3196825ee",
   "metadata": {},
   "outputs": [],
   "source": [
    "index = ['color', 'color_name', 'hex', 'R', 'G', 'B']\n",
    "df = pd.read_csv(csv_path, names=index, header=None)\n",
    "\n",
    "# reading image\n"
   ]
  },
  {
   "cell_type": "code",
   "execution_count": null,
   "id": "7da79440-b97d-41f0-bb5d-dc72cff7beb9",
   "metadata": {},
   "outputs": [],
   "source": [
    "img = cv2.imread(img_path)\n",
    "img = cv2.resize(img, (800,600))\n",
    "\n",
    "#declaring global variables\n",
    "clicked = False\n",
    "r = g = b = xpos = ypos = 0\n",
    "\n"
   ]
  },
  {
   "cell_type": "code",
   "execution_count": null,
   "id": "a43cbb82-eabc-45a3-abaf-36a3d739ce72",
   "metadata": {},
   "outputs": [],
   "source": [
    "#function to calculate minimum distance from all colors and get the most matching color\n",
    "def get_color_name(R,G,B):\n",
    "\tminimum = 1000\n",
    "\tfor i in range(len(df)):\n",
    "\t\td = abs(R - int(df.loc[i,'R'])) + abs(G - int(df.loc[i,'G'])) + abs(B - int(df.loc[i,'B']))\n",
    "\t\tif d <= minimum:\n",
    "\t\t\tminimum = d\n",
    "\t\t\tcname = df.loc[i, 'color_name']\n",
    "\n",
    "\treturn cname\n",
    "\n",
    "#function to get x,y coordinates of mouse double click\n",
    "def draw_function(event, x, y, flags, params):\n",
    "\tif event == cv2.EVENT_LBUTTONDBLCLK:\n",
    "\t\tglobal b, g, r, xpos, ypos, clicked\n",
    "\t\tclicked = True\n",
    "\t\txpos = x\n",
    "\t\typos = y\n",
    "\t\tb,g,r = img[y,x]\n",
    "\t\tb = int(b)\n",
    "\t\tg = int(g)\n",
    "\t\tr = int(r)\n",
    "\n",
    "# creating window\n",
    "cv2.namedWindow('image')\n",
    "cv2.setMouseCallback('image', draw_function)\n",
    "\n",
    "while True:\n",
    "\tcv2.imshow('image', img)\n",
    "\tif clicked:\n",
    "\t\t#cv2.rectangle(image, startpoint, endpoint, color, thickness)-1 fills entire rectangle \n",
    "\t\tcv2.rectangle(img, (20,20), (600,60), (b,g,r), -1)\n",
    "\n",
    "\t\t#Creating text string to display( Color name and RGB values )\n",
    "\t\ttext = get_color_name(r,g,b) + ' R=' + str(r) + ' G=' + str(g) + ' B=' + str(b)\n",
    "\t\t#cv2.putText(img,text,start,font(0-7),fontScale,color,thickness,lineType )\n",
    "\t\tcv2.putText(img, text, (50,50), 2,0.8, (255,255,255),2,cv2.LINE_AA)\n",
    "\n",
    "\t\t#For very light colours we will display text in black colour\n",
    "\t\tif r+g+b >=600:\n",
    "\t\t\tcv2.putText(img, text, (50,50), 2,0.8, (0,0,0),2,cv2.LINE_AA)\n",
    "\n",
    "\tif cv2.waitKey(20) & 0xFF == 27:\n",
    "\t\tbreak\n",
    "\n",
    "cv2.destroyAllWindows()"
   ]
  },
  {
   "cell_type": "code",
   "execution_count": null,
   "id": "6f7205cd-2786-45d0-9204-70f0a32d0048",
   "metadata": {},
   "outputs": [],
   "source": []
  },
  {
   "cell_type": "code",
   "execution_count": null,
   "id": "eaa4ba01-2d43-4137-a9b5-ffed277256f7",
   "metadata": {},
   "outputs": [],
   "source": []
  },
  {
   "cell_type": "code",
   "execution_count": null,
   "id": "978f4b8f-1dfb-42ec-97d1-aded3bcaa291",
   "metadata": {},
   "outputs": [],
   "source": []
  }
 ],
 "metadata": {
  "kernelspec": {
   "display_name": "Python 3 (ipykernel)",
   "language": "python",
   "name": "python3"
  },
  "language_info": {
   "codemirror_mode": {
    "name": "ipython",
    "version": 3
   },
   "file_extension": ".py",
   "mimetype": "text/x-python",
   "name": "python",
   "nbconvert_exporter": "python",
   "pygments_lexer": "ipython3",
   "version": "3.11.8"
  }
 },
 "nbformat": 4,
 "nbformat_minor": 5
}
